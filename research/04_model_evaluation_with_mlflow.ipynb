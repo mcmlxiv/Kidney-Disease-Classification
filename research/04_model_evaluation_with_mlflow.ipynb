{
 "cells": [
  {
   "cell_type": "code",
   "id": "initial_id",
   "metadata": {
    "collapsed": true,
    "ExecuteTime": {
     "end_time": "2024-05-27T09:08:10.206386Z",
     "start_time": "2024-05-27T09:08:10.186328Z"
    }
   },
   "source": "import os",
   "outputs": [],
   "execution_count": 1
  },
  {
   "metadata": {
    "ExecuteTime": {
     "end_time": "2024-05-27T09:08:31.435215Z",
     "start_time": "2024-05-27T09:08:31.414217Z"
    }
   },
   "cell_type": "code",
   "source": "%pwd\n",
   "id": "547a527001777769",
   "outputs": [
    {
     "data": {
      "text/plain": [
       "'D:\\\\ML projects\\\\ML class\\\\Kidney-Disease-Classification\\\\research'"
      ]
     },
     "execution_count": 2,
     "metadata": {},
     "output_type": "execute_result"
    }
   ],
   "execution_count": 2
  },
  {
   "metadata": {
    "ExecuteTime": {
     "end_time": "2024-05-27T09:08:45.231490Z",
     "start_time": "2024-05-27T09:08:45.220504Z"
    }
   },
   "cell_type": "code",
   "source": [
    "os.chdir(\"../\")\n",
    "%pwd"
   ],
   "id": "c696c18cd5226c53",
   "outputs": [
    {
     "data": {
      "text/plain": [
       "'D:\\\\ML projects\\\\ML class\\\\Kidney-Disease-Classification'"
      ]
     },
     "execution_count": 3,
     "metadata": {},
     "output_type": "execute_result"
    }
   ],
   "execution_count": 3
  },
  {
   "metadata": {
    "ExecuteTime": {
     "end_time": "2024-05-27T10:02:33.464802Z",
     "start_time": "2024-05-27T10:02:31.638656Z"
    }
   },
   "cell_type": "code",
   "source": [
    "import dagshub\n",
    "dagshub.init(repo_owner='mcmlxiv', repo_name='Kidney-Disease-Classification', mlflow=True)\n",
    "\n",
    "import mlflow\n",
    "with mlflow.start_run():\n",
    "  mlflow.log_param('parameter name', 'value')\n",
    "  mlflow.log_metric('metric name', 1)"
   ],
   "id": "1e1bc237d7bf46a",
   "outputs": [
    {
     "data": {
      "text/plain": [
       "Initialized MLflow to track repo \u001B[32m\"mcmlxiv/Kidney-Disease-Classification\"\u001B[0m\n"
      ],
      "text/html": [
       "<pre style=\"white-space:pre;overflow-x:auto;line-height:normal;font-family:Menlo,'DejaVu Sans Mono',consolas,'Courier New',monospace\">Initialized MLflow to track repo <span style=\"color: #008000; text-decoration-color: #008000\">\"mcmlxiv/Kidney-Disease-Classification\"</span>\n",
       "</pre>\n"
      ]
     },
     "metadata": {},
     "output_type": "display_data"
    },
    {
     "name": "stdout",
     "output_type": "stream",
     "text": [
      "[2024-05-27 18:02:32,051: INFO: helpers]: Initialized MLflow to track repo \"mcmlxiv/Kidney-Disease-Classification\"\n"
     ]
    },
    {
     "data": {
      "text/plain": [
       "Repository mcmlxiv/Kidney-Disease-Classification initialized!\n"
      ],
      "text/html": [
       "<pre style=\"white-space:pre;overflow-x:auto;line-height:normal;font-family:Menlo,'DejaVu Sans Mono',consolas,'Courier New',monospace\">Repository mcmlxiv/Kidney-Disease-Classification initialized!\n",
       "</pre>\n"
      ]
     },
     "metadata": {},
     "output_type": "display_data"
    },
    {
     "name": "stdout",
     "output_type": "stream",
     "text": [
      "[2024-05-27 18:02:32,062: INFO: helpers]: Repository mcmlxiv/Kidney-Disease-Classification initialized!\n"
     ]
    }
   ],
   "execution_count": 32
  },
  {
   "metadata": {
    "ExecuteTime": {
     "end_time": "2024-05-27T10:02:33.480804Z",
     "start_time": "2024-05-27T10:02:33.467804Z"
    }
   },
   "cell_type": "code",
   "source": "import tensorflow as tf",
   "id": "7c34a4bd82da3b80",
   "outputs": [],
   "execution_count": 33
  },
  {
   "metadata": {
    "ExecuteTime": {
     "end_time": "2024-05-27T10:02:34.067443Z",
     "start_time": "2024-05-27T10:02:34.054478Z"
    }
   },
   "cell_type": "code",
   "source": "model =tf.keras.models.load_model('artifacts/training/model.h5')",
   "id": "13135a1815167d34",
   "outputs": [],
   "execution_count": 33
  },
  {
   "metadata": {
    "ExecuteTime": {
     "end_time": "2024-05-27T10:02:36.654887Z",
     "start_time": "2024-05-27T10:02:36.641886Z"
    }
   },
   "cell_type": "code",
   "source": [
    "from dataclasses import dataclass\n",
    "from pathlib import Path\n",
    "\n",
    "\n",
    "@dataclass(frozen=True)\n",
    "class EvaluationConfig:\n",
    "    path_of_model: Path\n",
    "    training_data: Path\n",
    "    all_params: dict\n",
    "    mlflow_uri:str\n",
    "    params_image_size:list\n",
    "    params_batch_size:int\n",
    "  "
   ],
   "id": "e4a42f0667bd0d5a",
   "outputs": [],
   "execution_count": 34
  },
  {
   "metadata": {
    "ExecuteTime": {
     "end_time": "2024-05-27T10:02:37.225891Z",
     "start_time": "2024-05-27T10:02:37.212893Z"
    }
   },
   "cell_type": "code",
   "source": [
    "from src.cnnClassifier.constants import *\n",
    "from src.cnnClassifier.utils.common import read_yaml,create_directories, save_json"
   ],
   "id": "b436f8ecd483a87a",
   "outputs": [],
   "execution_count": 35
  },
  {
   "metadata": {
    "ExecuteTime": {
     "end_time": "2024-05-27T10:02:37.651887Z",
     "start_time": "2024-05-27T10:02:37.629891Z"
    }
   },
   "cell_type": "code",
   "source": [
    "class ConfigurationManager:\n",
    "    def __init__(self,\n",
    "                 config_filepath = CONFIG_FILE_PATH,\n",
    "                 params_filepath= Path(\"D:\\ML projects\\ML class\\Kidney-Disease-Classification\\params.yaml\"),\n",
    "                 ):\n",
    "        self.config = read_yaml(config_filepath)\n",
    "        self.params = read_yaml(params_filepath)\n",
    "        \n",
    "        create_directories([self.config.artifacts_root])\n",
    "    \n",
    "    def get_evaluation_config(self):\n",
    "        eval_config = EvaluationConfig(\n",
    "            path_of_model = \"artifacts/training/model.h5\",\n",
    "            training_data = \"artifacts/data_ingestion\",\n",
    "            mlflow_uri = \"https://dagshub.com/mcmlxiv/Kidney-Disease-Classification.mlflow\",\n",
    "            all_params = self.params,\n",
    "            params_image_size=self.params.IMAGE_SIZE,\n",
    "            params_batch_size = self.params.BATCH_SIZE,\n",
    "        )\n",
    "        return eval_config"
   ],
   "id": "318171a6ebbac9de",
   "outputs": [],
   "execution_count": 36
  },
  {
   "metadata": {
    "ExecuteTime": {
     "end_time": "2024-05-27T10:02:38.034900Z",
     "start_time": "2024-05-27T10:02:38.021890Z"
    }
   },
   "cell_type": "code",
   "source": "%pwd",
   "id": "702745b0823d3457",
   "outputs": [
    {
     "data": {
      "text/plain": [
       "'D:\\\\ML projects\\\\ML class\\\\Kidney-Disease-Classification'"
      ]
     },
     "execution_count": 37,
     "metadata": {},
     "output_type": "execute_result"
    }
   ],
   "execution_count": 37
  },
  {
   "metadata": {
    "ExecuteTime": {
     "end_time": "2024-05-27T10:02:38.382312Z",
     "start_time": "2024-05-27T10:02:38.364312Z"
    }
   },
   "cell_type": "code",
   "source": [
    "import os\n",
    "import tensorflow as tf\n",
    "from pathlib import Path\n",
    "import mlflow\n",
    "import mlflow.keras\n",
    "from urllib.parse import urlparse\n"
   ],
   "id": "9ab018b979ca5ab9",
   "outputs": [],
   "execution_count": 38
  },
  {
   "metadata": {
    "ExecuteTime": {
     "end_time": "2024-05-27T10:02:38.841311Z",
     "start_time": "2024-05-27T10:02:38.809311Z"
    }
   },
   "cell_type": "code",
   "source": [
    "class Evaluation:\n",
    "    def __init__(self, config: EvaluationConfig):\n",
    "        self.config = config\n",
    "\n",
    "    \n",
    "    def _valid_generator(self):\n",
    "\n",
    "        datagenerator_kwargs = dict(\n",
    "            rescale = 1./255,\n",
    "            validation_split=0.30\n",
    "        )\n",
    "\n",
    "        dataflow_kwargs = dict(\n",
    "            target_size=self.config.params_image_size[:-1],\n",
    "            batch_size=self.config.params_batch_size,\n",
    "            interpolation=\"bilinear\"\n",
    "        )\n",
    "\n",
    "        valid_datagenerator = tf.keras.preprocessing.image.ImageDataGenerator(\n",
    "            **datagenerator_kwargs\n",
    "        )\n",
    "\n",
    "        self.valid_generator = valid_datagenerator.flow_from_directory(\n",
    "            directory=self.config.training_data,\n",
    "            subset=\"validation\",\n",
    "            shuffle=False,\n",
    "            **dataflow_kwargs\n",
    "        )\n",
    "\n",
    "\n",
    "    @staticmethod\n",
    "    def load_model(path: Path) -> tf.keras.Model:\n",
    "        return tf.keras.models.load_model(path)\n",
    "    \n",
    "\n",
    "    def evaluation(self):\n",
    "        self.model = self.load_model(self.config.path_of_model)\n",
    "        self._valid_generator()\n",
    "        self.score = model.evaluate(self.valid_generator)\n",
    "        self.save_score()\n",
    "\n",
    "    def save_score(self):\n",
    "        scores = {\"loss\": self.score[0], \"accuracy\": self.score[1]}\n",
    "        save_json(path=Path(\"scores.json\"), data=scores)\n",
    "\n",
    "    \n",
    "    def log_into_mlflow(self):\n",
    "        mlflow.set_registry_uri(self.config.mlflow_uri)\n",
    "        tracking_url_type_store = urlparse(mlflow.get_tracking_uri()).scheme\n",
    "        \n",
    "        with mlflow.start_run():\n",
    "            mlflow.log_params(self.config.all_params)\n",
    "            mlflow.log_metrics(\n",
    "                {\"loss\": self.score[0], \"accuracy\": self.score[1]}\n",
    "            )\n",
    "            # Model registry does not work with file store\n",
    "            if tracking_url_type_store != \"file\":\n",
    "\n",
    "                # Register the model\n",
    "                # There are other ways to use the Model Registry, which depends on the use case,\n",
    "                # please refer to the doc for more information:\n",
    "                # https://mlflow.org/docs/latest/model-registry.html#api-workflow\n",
    "                mlflow.keras.log_model(self.model, \"model\", registered_model_name=\"VGG16Model\")\n",
    "            else:\n",
    "                mlflow.keras.log_model(self.model, \"model\")"
   ],
   "id": "c80ce341c3b49586",
   "outputs": [],
   "execution_count": 39
  },
  {
   "metadata": {
    "ExecuteTime": {
     "end_time": "2024-05-27T10:03:03.132313Z",
     "start_time": "2024-05-27T10:02:39.205314Z"
    }
   },
   "cell_type": "code",
   "source": [
    "try:\n",
    "    config = ConfigurationManager()\n",
    "    eval_config = config.get_evaluation_config()\n",
    "    evaluation = Evaluation(eval_config)\n",
    "    evaluation.evaluation()\n",
    "    evaluation.log_into_mlflow()\n",
    "    \n",
    "except Exception as e:\n",
    "    raise e"
   ],
   "id": "3f9b1cfe7e44131f",
   "outputs": [
    {
     "name": "stdout",
     "output_type": "stream",
     "text": [
      "[2024-05-27 18:02:39,215: INFO: common]: yaml file: config\\config.yaml loaded successfully\n",
      "[2024-05-27 18:02:39,220: INFO: common]: yaml file: D:\\ML projects\\ML class\\Kidney-Disease-Classification\\params.yaml loaded successfully\n",
      "[2024-05-27 18:02:39,222: INFO: common]: created directory at: artifacts\n",
      "Found 138 images belonging to 2 classes.\n",
      "9/9 [==============================] - 23s 2s/step - loss: 39.2283 - accuracy: 0.4783\n",
      "[2024-05-27 18:03:02,965: INFO: common]: json files saved at: scores.json\n"
     ]
    },
    {
     "ename": "AttributeError",
     "evalue": "'EvaluationConfig' object has no attribute 'mlflow_uri'",
     "output_type": "error",
     "traceback": [
      "\u001B[1;31m---------------------------------------------------------------------------\u001B[0m",
      "\u001B[1;31mAttributeError\u001B[0m                            Traceback (most recent call last)",
      "Cell \u001B[1;32mIn[40], line 9\u001B[0m\n\u001B[0;32m      6\u001B[0m     evaluation\u001B[38;5;241m.\u001B[39mlog_into_mlflow()\n\u001B[0;32m      8\u001B[0m \u001B[38;5;28;01mexcept\u001B[39;00m \u001B[38;5;167;01mException\u001B[39;00m \u001B[38;5;28;01mas\u001B[39;00m e:\n\u001B[1;32m----> 9\u001B[0m     \u001B[38;5;28;01mraise\u001B[39;00m e\n",
      "Cell \u001B[1;32mIn[40], line 6\u001B[0m\n\u001B[0;32m      4\u001B[0m     evaluation \u001B[38;5;241m=\u001B[39m Evaluation(eval_config)\n\u001B[0;32m      5\u001B[0m     evaluation\u001B[38;5;241m.\u001B[39mevaluation()\n\u001B[1;32m----> 6\u001B[0m     \u001B[43mevaluation\u001B[49m\u001B[38;5;241;43m.\u001B[39;49m\u001B[43mlog_into_mlflow\u001B[49m\u001B[43m(\u001B[49m\u001B[43m)\u001B[49m\n\u001B[0;32m      8\u001B[0m \u001B[38;5;28;01mexcept\u001B[39;00m \u001B[38;5;167;01mException\u001B[39;00m \u001B[38;5;28;01mas\u001B[39;00m e:\n\u001B[0;32m      9\u001B[0m     \u001B[38;5;28;01mraise\u001B[39;00m e\n",
      "Cell \u001B[1;32mIn[39], line 48\u001B[0m, in \u001B[0;36mEvaluation.log_into_mlflow\u001B[1;34m(self)\u001B[0m\n\u001B[0;32m     47\u001B[0m \u001B[38;5;28;01mdef\u001B[39;00m \u001B[38;5;21mlog_into_mlflow\u001B[39m(\u001B[38;5;28mself\u001B[39m):\n\u001B[1;32m---> 48\u001B[0m     mlflow\u001B[38;5;241m.\u001B[39mset_registry_uri(\u001B[38;5;28;43mself\u001B[39;49m\u001B[38;5;241;43m.\u001B[39;49m\u001B[43mconfig\u001B[49m\u001B[38;5;241;43m.\u001B[39;49m\u001B[43mmlflow_uri\u001B[49m)\n\u001B[0;32m     49\u001B[0m     tracking_url_type_store \u001B[38;5;241m=\u001B[39m urlparse(mlflow\u001B[38;5;241m.\u001B[39mget_tracking_uri())\u001B[38;5;241m.\u001B[39mscheme\n\u001B[0;32m     51\u001B[0m     \u001B[38;5;28;01mwith\u001B[39;00m mlflow\u001B[38;5;241m.\u001B[39mstart_run():\n",
      "\u001B[1;31mAttributeError\u001B[0m: 'EvaluationConfig' object has no attribute 'mlflow_uri'"
     ]
    }
   ],
   "execution_count": 40
  },
  {
   "metadata": {},
   "cell_type": "code",
   "source": "",
   "id": "9ee69ac3eecbffaf",
   "outputs": [],
   "execution_count": null
  }
 ],
 "metadata": {
  "kernelspec": {
   "display_name": "Python 3",
   "language": "python",
   "name": "python3"
  },
  "language_info": {
   "codemirror_mode": {
    "name": "ipython",
    "version": 2
   },
   "file_extension": ".py",
   "mimetype": "text/x-python",
   "name": "python",
   "nbconvert_exporter": "python",
   "pygments_lexer": "ipython2",
   "version": "2.7.6"
  }
 },
 "nbformat": 4,
 "nbformat_minor": 5
}

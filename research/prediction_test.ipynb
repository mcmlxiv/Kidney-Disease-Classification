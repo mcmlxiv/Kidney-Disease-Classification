{
 "cells": [
  {
   "cell_type": "code",
   "id": "initial_id",
   "metadata": {
    "collapsed": true,
    "ExecuteTime": {
     "end_time": "2024-06-06T04:12:24.616823Z",
     "start_time": "2024-06-06T04:12:24.606818Z"
    }
   },
   "source": "import os",
   "outputs": [],
   "execution_count": 47
  },
  {
   "metadata": {
    "ExecuteTime": {
     "end_time": "2024-06-06T04:10:24.781880Z",
     "start_time": "2024-06-06T04:10:24.760878Z"
    }
   },
   "cell_type": "code",
   "source": "%pwd",
   "id": "111c8ae5fe4b7ed2",
   "outputs": [
    {
     "data": {
      "text/plain": [
       "'D:\\\\ML projects\\\\ML class\\\\Kidney-Disease-Classification'"
      ]
     },
     "execution_count": 41,
     "metadata": {},
     "output_type": "execute_result"
    }
   ],
   "execution_count": 41
  },
  {
   "metadata": {
    "ExecuteTime": {
     "end_time": "2024-06-05T17:44:11.259406Z",
     "start_time": "2024-06-05T17:44:11.249409Z"
    }
   },
   "cell_type": "code",
   "source": "os.chdir(\"../\")",
   "id": "ca91399eae01206e",
   "outputs": [],
   "execution_count": 3
  },
  {
   "metadata": {
    "ExecuteTime": {
     "end_time": "2024-06-09T12:40:45.606967Z",
     "start_time": "2024-06-09T12:40:45.341558Z"
    }
   },
   "cell_type": "code",
   "source": "%pwd",
   "id": "f79def7ec7b63b02",
   "outputs": [
    {
     "data": {
      "text/plain": [
       "'D:\\\\ML projects\\\\ML class\\\\Kidney-Disease-Classification'"
      ]
     },
     "execution_count": 124,
     "metadata": {},
     "output_type": "execute_result"
    }
   ],
   "execution_count": 124
  },
  {
   "metadata": {
    "ExecuteTime": {
     "end_time": "2024-06-10T07:50:22.303981Z",
     "start_time": "2024-06-10T07:50:22.261986Z"
    }
   },
   "cell_type": "code",
   "source": [
    "import numpy as np\n",
    "from tensorflow.keras.preprocessing import image\n",
    "import os\n",
    "from pathlib import Path\n",
    "from tensorflow.keras.models import Model, load_model\n",
    "import tensorflow as tf"
   ],
   "id": "25c6993e54228dcb",
   "outputs": [],
   "execution_count": 128
  },
  {
   "metadata": {
    "ExecuteTime": {
     "end_time": "2024-06-10T07:50:23.070989Z",
     "start_time": "2024-06-10T07:50:23.010988Z"
    }
   },
   "cell_type": "code",
   "source": [
    "class PredictionPipeline:\n",
    "    def __init__(self, filename = Path(\"D:\\ML projects\\ML class\\Kidney-Disease-Classification/artifacts\\data_ingestion\\Cyst LARGE\\Cyst- (868).jpg\")):\n",
    "        self.filename = filename\n",
    "\n",
    "    def predict(self):\n",
    "        model = load_model(os.path.join(\"artifacts\",\"training\", \"model.h5\"))\n",
    "\n",
    "        \n",
    "    \n",
    "        image_name = self.filename\n",
    "        test_image = image.load_img(image_name, target_size=(224, 224))\n",
    "        test_image = image.img_to_array(test_image)\n",
    "        test_image = np.expand_dims(test_image, axis=0)\n",
    "        result = np.argmax(model.predict(test_image), axis=1)\n",
    "    \n",
    "        \n",
    "        \n",
    "       # print(model.summary())\n",
    "       \n",
    "        \"\"\"\n",
    "            model_1 = load_model(os.path.join(\"ensemble\", \"DenseNet121Model.h5\"))\n",
    "            model_2 = load_model(os.path.join(\"ensemble\", \"VGG16Model.h5\"))\n",
    "            models = [model_1, model_2]\n",
    "            model_input = tf.keras.Input(shape=(224, 224, 3))\n",
    "            model_outputs=[model(model_input) for model in models]\n",
    "            ensemble_output = tf.keras.layers.Average()(model_outputs)\n",
    "            ensemble_model = Model(inputs=model_input, outputs=ensemble_output)\n",
    "            ensemble_result = np.argmax(ensemble_model.predict(test_image), axis=1)\n",
    "            print(ensemble_model.summary())\n",
    "            print(ensemble_result)\n",
    "           \"\"\"\n",
    "        \n",
    "        \n",
    "        match result[0]:\n",
    "            case 1:\n",
    "                prediction = \"Normal\"\n",
    "            case 2:\n",
    "                prediction = \"Tumor\"\n",
    "            case 3:\n",
    "                prediction = \"Stone\"\n",
    "            case _:\n",
    "                prediction = \"Cyst\"\n",
    "        \n",
    "        \n",
    "\n",
    "        \n",
    "        return [{ \"image\" : prediction}]\n",
    "       \n"
   ],
   "id": "9f86f1a4d5b68133",
   "outputs": [],
   "execution_count": 129
  },
  {
   "metadata": {
    "ExecuteTime": {
     "end_time": "2024-06-10T07:50:28.578002Z",
     "start_time": "2024-06-10T07:50:24.194573Z"
    }
   },
   "cell_type": "code",
   "source": [
    "try:\n",
    "    config = PredictionPipeline()\n",
    "    prepare_base_model_config = config.predict()\n",
    "except Exception as e:\n",
    "    raise e"
   ],
   "id": "a9a8dd421be6f767",
   "outputs": [
    {
     "name": "stdout",
     "output_type": "stream",
     "text": [
      "1/1 [==============================] - 2s 2s/step\n"
     ]
    }
   ],
   "execution_count": 130
  },
  {
   "metadata": {},
   "cell_type": "code",
   "outputs": [],
   "execution_count": null,
   "source": "",
   "id": "f202780d8aca0f2"
  },
  {
   "metadata": {
    "ExecuteTime": {
     "end_time": "2024-06-07T05:47:58.515087Z",
     "start_time": "2024-06-07T05:47:58.505034Z"
    }
   },
   "cell_type": "code",
   "source": "",
   "id": "d40ee91a3d24e401",
   "outputs": [],
   "execution_count": 89
  },
  {
   "metadata": {},
   "cell_type": "code",
   "outputs": [],
   "execution_count": null,
   "source": "",
   "id": "655ef7e619489aee"
  }
 ],
 "metadata": {
  "kernelspec": {
   "display_name": "Python 3",
   "language": "python",
   "name": "python3"
  },
  "language_info": {
   "codemirror_mode": {
    "name": "ipython",
    "version": 2
   },
   "file_extension": ".py",
   "mimetype": "text/x-python",
   "name": "python",
   "nbconvert_exporter": "python",
   "pygments_lexer": "ipython2",
   "version": "2.7.6"
  }
 },
 "nbformat": 4,
 "nbformat_minor": 5
}

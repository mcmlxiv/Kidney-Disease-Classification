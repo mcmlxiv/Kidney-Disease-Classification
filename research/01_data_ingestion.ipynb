{
 "cells": [
  {
   "cell_type": "code",
   "id": "initial_id",
   "metadata": {
    "collapsed": true,
    "ExecuteTime": {
     "end_time": "2024-05-24T16:25:05.268884Z",
     "start_time": "2024-05-24T16:25:05.254880Z"
    }
   },
   "source": "import os",
   "outputs": [],
   "execution_count": 10
  },
  {
   "metadata": {
    "ExecuteTime": {
     "end_time": "2024-05-24T16:25:05.331526Z",
     "start_time": "2024-05-24T16:25:05.311528Z"
    }
   },
   "cell_type": "code",
   "source": "",
   "id": "77f11c55e1128118",
   "outputs": [],
   "execution_count": 11
  },
  {
   "metadata": {
    "ExecuteTime": {
     "end_time": "2024-05-24T16:25:05.347527Z",
     "start_time": "2024-05-24T16:25:05.335529Z"
    }
   },
   "cell_type": "code",
   "source": "%pwd",
   "id": "a5de2c6789f3a22c",
   "outputs": [
    {
     "data": {
      "text/plain": [
       "'D:\\\\ML projects\\\\ML class\\\\Kidney-Disease-Classification'"
      ]
     },
     "execution_count": 12,
     "metadata": {},
     "output_type": "execute_result"
    }
   ],
   "execution_count": 12
  },
  {
   "metadata": {
    "ExecuteTime": {
     "end_time": "2024-05-24T16:25:05.363526Z",
     "start_time": "2024-05-24T16:25:05.350530Z"
    }
   },
   "cell_type": "code",
   "source": [
    "from dataclasses import dataclass\n",
    "from pathlib import Path\n",
    "\n",
    "@dataclass(frozen=True)\n",
    "class DataIngestionConfig:\n",
    "    root_dir: Path\n",
    "    source_URL:str\n",
    "    local_data_file:Path\n",
    "    unzip_dir:Path"
   ],
   "id": "97d11cbdd9fd3cc8",
   "outputs": [],
   "execution_count": 13
  },
  {
   "metadata": {
    "ExecuteTime": {
     "end_time": "2024-05-24T16:25:05.378525Z",
     "start_time": "2024-05-24T16:25:05.368528Z"
    }
   },
   "cell_type": "code",
   "source": [
    "from cnnClassifier.constants import *\n",
    "from cnnClassifier.utils.common import read_yaml,create_directories\n",
    "from pathlib import Path"
   ],
   "id": "d73aaa2f4267c55c",
   "outputs": [],
   "execution_count": 14
  },
  {
   "metadata": {
    "ExecuteTime": {
     "end_time": "2024-05-24T16:25:05.457530Z",
     "start_time": "2024-05-24T16:25:05.437526Z"
    }
   },
   "cell_type": "code",
   "source": [
    "class ConfigurationManager:\n",
    "    def __init__(self,\n",
    "                 config_filepath = CONFIG_FILE_PATH,\n",
    "                 params_filepath= PARAMS_FILE_PATH,\n",
    "                 ):\n",
    "        self.config = read_yaml(config_filepath)\n",
    "        self.params = read_yaml(params_filepath)\n",
    "        self.path_local = params_filepath\n",
    "        \n",
    "        create_directories([self.config.artifacts_root])\n",
    "        \n",
    "    def get_data_ingestion_config(self) -> DataIngestionConfig:\n",
    "        config = self.config.data_ingestion\n",
    "        \n",
    "        create_directories([config.root_dir])\n",
    "        \n",
    "        data_ingestion_config = DataIngestionConfig(\n",
    "            root_dir=config.root_dir,\n",
    "            source_URL=config.source_URL,\n",
    "            local_data_file=config.local_data_file,\n",
    "            unzip_dir=config.unzip_dir\n",
    "        )\n",
    "        \n",
    "        return data_ingestion_config"
   ],
   "id": "f78e668c6ab14b9",
   "outputs": [],
   "execution_count": 15
  },
  {
   "metadata": {
    "ExecuteTime": {
     "end_time": "2024-05-24T16:25:05.472527Z",
     "start_time": "2024-05-24T16:25:05.461532Z"
    }
   },
   "cell_type": "code",
   "source": [
    "import os\n",
    "import urllib.request as request\n",
    "import zipfile\n",
    "import gdown\n",
    "from cnnClassifier import logger\n",
    "from cnnClassifier.utils.common import get_size"
   ],
   "id": "b66e68000c95d98a",
   "outputs": [],
   "execution_count": 16
  },
  {
   "metadata": {
    "ExecuteTime": {
     "end_time": "2024-05-24T16:25:05.503525Z",
     "start_time": "2024-05-24T16:25:05.476533Z"
    }
   },
   "cell_type": "code",
   "source": [
    "class DataIngestion:\n",
    "    def __init__(self, config: DataIngestionConfig):\n",
    "        self.config = config\n",
    "        \n",
    "    def download_file(self) -> str:\n",
    "        \"\"\"\n",
    "        Fetch data from URL\n",
    "        :return: \n",
    "        \"\"\"\n",
    "        \n",
    "        try: \n",
    "            dataset_url = self.config.source_URL\n",
    "            zip_download_dir = self.config.local_data_file\n",
    "            os.makedirs(\"artifacts/data_ingestion\", exist_ok=True)\n",
    "            logger.info(f\"Downloading data from {dataset_url} into file {zip_download_dir}\")\n",
    "            \n",
    "            file_id=dataset_url.split(\"/\")[-2]\n",
    "            prefix = 'https://drive.google.com/uc?/export=download&id='\n",
    "            gdown.download(prefix+file_id,zip_download_dir)\n",
    "            \n",
    "            logger.info(f\"Download data from {dataset_url} into file {zip_download_dir}\")\n",
    "        \n",
    "        except Exception as e:\n",
    "            raise e\n",
    "        \n",
    "    def extract_zip_file(self):\n",
    "        \"\"\"\n",
    "        zip_file_path: str\n",
    "        Extracts the zip file into the data directory\n",
    "        Function returns None\n",
    "        :return: \n",
    "        \"\"\"\n",
    "        unzip_path = self.config.unzip_dir\n",
    "        os.makedirs(unzip_path, exist_ok=True)\n",
    "        with zipfile.ZipFile(self.config.local_data_file,'r') as zip_ref:\n",
    "            zip_ref.extractall(unzip_path)"
   ],
   "id": "c232ad6fa0b590a2",
   "outputs": [],
   "execution_count": 17
  },
  {
   "metadata": {
    "ExecuteTime": {
     "end_time": "2024-05-24T16:25:57.364094Z",
     "start_time": "2024-05-24T16:25:05.507526Z"
    }
   },
   "cell_type": "code",
   "source": [
    "try:\n",
    "    config=ConfigurationManager()\n",
    "    data_ingestion_config = config.get_data_ingestion_config()\n",
    "    data_ingestion = DataIngestion(config=data_ingestion_config)\n",
    "    data_ingestion.download_file()\n",
    "    data_ingestion.extract_zip_file()\n",
    "except Exception as e:\n",
    "    raise e"
   ],
   "id": "453b861f75c7272b",
   "outputs": [
    {
     "name": "stdout",
     "output_type": "stream",
     "text": [
      "[2024-05-25 00:25:05,512:INFO:common:yaml file: config\\config.yaml loaded successfully]\n",
      "[2024-05-25 00:25:05,517:INFO:common:yaml file: params.yaml loaded successfully]\n",
      "[2024-05-25 00:25:05,519:INFO:common:created directory at: artifacts]\n",
      "[2024-05-25 00:25:05,522:INFO:common:created directory at: artifacts/data_ingestion]\n",
      "[2024-05-25 00:25:05,524:INFO:906975951:Downloading data from https://drive.google.com/file/d/1SrvZQiGilu4ZbeDO94VL4r2vFpcBRUtY/view?usp=sharing into file artifacts/data_ingestion/data.zip]\n"
     ]
    },
    {
     "name": "stderr",
     "output_type": "stream",
     "text": [
      "Downloading...\n",
      "From (original): https://drive.google.com/uc?/export=download&id=1SrvZQiGilu4ZbeDO94VL4r2vFpcBRUtY\n",
      "From (redirected): https://drive.google.com/uc?%2Fexport=download&id=1SrvZQiGilu4ZbeDO94VL4r2vFpcBRUtY&confirm=t&uuid=29165df6-a60e-47eb-a567-a02d0ab485e6\n",
      "To: D:\\ML projects\\ML class\\Kidney-Disease-Classification\\artifacts\\data_ingestion\\data.zip\n",
      "100%|██████████| 91.8M/91.8M [00:47<00:00, 1.92MB/s]"
     ]
    },
    {
     "name": "stdout",
     "output_type": "stream",
     "text": [
      "[2024-05-25 00:25:55,222:INFO:906975951:Download data from https://drive.google.com/file/d/1SrvZQiGilu4ZbeDO94VL4r2vFpcBRUtY/view?usp=sharing into file artifacts/data_ingestion/data.zip]\n"
     ]
    },
    {
     "name": "stderr",
     "output_type": "stream",
     "text": [
      "\n"
     ]
    }
   ],
   "execution_count": 18
  },
  {
   "metadata": {
    "ExecuteTime": {
     "end_time": "2024-05-24T16:25:57.380086Z",
     "start_time": "2024-05-24T16:25:57.366051Z"
    }
   },
   "cell_type": "code",
   "source": "",
   "id": "f1a01e8d77e17506",
   "outputs": [],
   "execution_count": 18
  }
 ],
 "metadata": {
  "kernelspec": {
   "display_name": "Python 3",
   "language": "python",
   "name": "python3"
  },
  "language_info": {
   "codemirror_mode": {
    "name": "ipython",
    "version": 2
   },
   "file_extension": ".py",
   "mimetype": "text/x-python",
   "name": "python",
   "nbconvert_exporter": "python",
   "pygments_lexer": "ipython2",
   "version": "2.7.6"
  }
 },
 "nbformat": 4,
 "nbformat_minor": 5
}
